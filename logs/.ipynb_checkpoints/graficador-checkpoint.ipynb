{
 "cells": [
  {
   "cell_type": "code",
   "execution_count": 1,
   "id": "ca080da3",
   "metadata": {},
   "outputs": [],
   "source": [
    "import grblogtools as glt\n",
    "results = glt.parse(\"*.log\")\n",
    "summary = results.summary()\n",
    "nodelog_progress = results.progress(\"nodelog\")"
   ]
  },
  {
   "cell_type": "code",
   "execution_count": null,
   "id": "f3f7d1c4",
   "metadata": {
    "scrolled": false
   },
   "outputs": [],
   "source": [
    "results"
   ]
  },
  {
   "cell_type": "code",
   "execution_count": null,
   "id": "c1a67bb9",
   "metadata": {},
   "outputs": [],
   "source": [
    "nodelog_progress"
   ]
  },
  {
   "cell_type": "code",
   "execution_count": 2,
   "id": "d5ee2a0a",
   "metadata": {
    "scrolled": true
   },
   "outputs": [
    {
     "data": {
      "application/vnd.jupyter.widget-view+json": {
       "model_id": "27c02768d3bd4f2da3e44c7f8b3b3272",
       "version_major": 2,
       "version_minor": 0
      },
      "text/plain": [
       "interactive(children=(Dropdown(description='x', index=9, options=('CurrentNode', 'RemainingNodes', 'Obj', 'Dep…"
      ]
     },
     "metadata": {},
     "output_type": "display_data"
    }
   ],
   "source": [
    "glt.plot(nodelog_progress, y=\"Gap\", color=\"Log\", type=\"line\")"
   ]
  },
  {
   "cell_type": "code",
   "execution_count": null,
   "id": "49513fcb",
   "metadata": {},
   "outputs": [],
   "source": [
    "glt.plot(summary, type=\"box\")"
   ]
  },
  {
   "cell_type": "code",
   "execution_count": null,
   "id": "ba5d228e",
   "metadata": {},
   "outputs": [],
   "source": [
    "glt.plot(summary.sort_values(by=\"Runtime\"), \n",
    "         type=\"box\", \n",
    "         color=\"Log\", \n",
    "         log_y=True, \n",
    "         title=\"Gurobi Performance\")"
   ]
  },
  {
   "cell_type": "code",
   "execution_count": null,
   "id": "43f12ff7",
   "metadata": {},
   "outputs": [],
   "source": []
  }
 ],
 "metadata": {
  "kernelspec": {
   "display_name": "Python 3 (ipykernel)",
   "language": "python",
   "name": "python3"
  },
  "language_info": {
   "codemirror_mode": {
    "name": "ipython",
    "version": 3
   },
   "file_extension": ".py",
   "mimetype": "text/x-python",
   "name": "python",
   "nbconvert_exporter": "python",
   "pygments_lexer": "ipython3",
   "version": "3.10.6"
  }
 },
 "nbformat": 4,
 "nbformat_minor": 5
}
